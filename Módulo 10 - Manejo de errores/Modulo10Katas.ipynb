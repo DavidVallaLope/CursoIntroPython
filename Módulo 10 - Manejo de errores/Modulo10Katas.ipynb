{
 "cells": [
  {
   "cell_type": "markdown",
   "metadata": {},
   "source": [
    "## Traceback\n",
    "Si intentamos abrir un archivo que no existe ocurre lo siguiente\n",
    "\n",
    "![](../images/noFile.PNG)\n",
    "\n",
    "Creando el archivo open.py\n",
    "\n",
    "![](../images/noFileDetailed.PNG)\n",
    "\n",
    "## Controlando excepciones\n",
    "Usando un bloque try y except\n",
    "\n",
    "![](../images/tryCatch.PNG)\n",
    "\n",
    "Creando el archivo config.py\n",
    "\n",
    "![](../images/carpetaError.PNG)\n",
    "\n",
    "Modificando la exception a una exception general\n",
    "\n",
    "![](../images/ErrorSimplificado.PNG)\n",
    "\n",
    "Si ampliamos el archivo config.py para aceptar mas excepciones\n",
    "\n",
    "![](../images/configFile.PNG)\n",
    "\n",
    "Obtenemos los siguientes errores\n",
    "\n",
    "![](../images/restricted.PNG)\n",
    "\n",
    "Si removemos el archivo config.txt\n",
    "\n",
    "![](../images/removed.PNG)\n"
   ]
  }
 ],
 "metadata": {
  "language_info": {
   "name": "python"
  },
  "orig_nbformat": 4
 },
 "nbformat": 4,
 "nbformat_minor": 2
}
